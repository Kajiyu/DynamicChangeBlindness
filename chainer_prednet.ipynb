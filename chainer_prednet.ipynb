{
  "nbformat": 4,
  "nbformat_minor": 0,
  "metadata": {
    "colab": {
      "name": "chainer_prednet.ipynb",
      "version": "0.3.2",
      "provenance": [],
      "private_outputs": true,
      "collapsed_sections": [],
      "include_colab_link": true
    },
    "kernelspec": {
      "name": "python2",
      "display_name": "Python 2"
    },
    "accelerator": "GPU"
  },
  "cells": [
    {
      "cell_type": "markdown",
      "metadata": {
        "id": "view-in-github",
        "colab_type": "text"
      },
      "source": [
        "<a href=\"https://colab.research.google.com/github/LanaSina/DynamicChangeBlindness/blob/master/chainer_prednet.ipynb\" target=\"_parent\"><img src=\"https://colab.research.google.com/assets/colab-badge.svg\" alt=\"Open In Colab\"/></a>"
      ]
    },
    {
      "cell_type": "markdown",
      "metadata": {
        "id": "Y2OWfJMMOzf0",
        "colab_type": "text"
      },
      "source": [
        "Install tb chainer\n",
        "\n",
        "Mount drive (fpsi images are in .zip file inside drive)\n"
      ]
    },
    {
      "cell_type": "code",
      "metadata": {
        "id": "4BHI_SmaOMHF",
        "colab_type": "code",
        "colab": {}
      },
      "source": [
        "# check python version (this should be python 2)\n",
        "# change python version through menu: Runtime -> Change runtime type\n",
        "# choose python 2 and gpu\n",
        "import sys\n",
        "print(sys.version)\n"
      ],
      "execution_count": 0,
      "outputs": []
    },
    {
      "cell_type": "code",
      "metadata": {
        "id": "Ou7gTNpUHJAR",
        "colab_type": "code",
        "colab": {}
      },
      "source": [
        "# Run this cell to mount your Google Drive.\n",
        "from google.colab import drive\n",
        "drive.mount('/content/drive')"
      ],
      "execution_count": 0,
      "outputs": []
    },
    {
      "cell_type": "code",
      "metadata": {
        "id": "K0tIzZHHDqIP",
        "colab_type": "code",
        "colab": {}
      },
      "source": [
        "%pip install tensorboard-chainer"
      ],
      "execution_count": 0,
      "outputs": []
    },
    {
      "cell_type": "code",
      "metadata": {
        "id": "MdCE52SBOTl0",
        "colab_type": "code",
        "colab": {}
      },
      "source": [
        "\n",
        "from google.colab import drive\n",
        "drive.mount('/content/gdrive')"
      ],
      "execution_count": 0,
      "outputs": []
    },
    {
      "cell_type": "markdown",
      "metadata": {
        "id": "mJwTWQq5QgqG",
        "colab_type": "text"
      },
      "source": [
        "Import prednet files from github\n",
        "\n",
        "Load files and locally unzip images\n",
        "\n",
        "Create image lists"
      ]
    },
    {
      "cell_type": "code",
      "metadata": {
        "id": "qycwVOrwQkYC",
        "colab_type": "code",
        "colab": {}
      },
      "source": [
        " !rm -r chainer_prednet\n",
        " #!rm -r images\n",
        "  \n",
        " !git clone https://github.com/LanaSina/chainer_prednet.git"
      ],
      "execution_count": 0,
      "outputs": []
    },
    {
      "cell_type": "code",
      "metadata": {
        "id": "3oMX2k1nUK2l",
        "colab_type": "code",
        "colab": {}
      },
      "source": [
        "%load chainer_prednet/PredNet/net.py\n",
        "%load chainer_prednet/PredNet/main.py\n",
        "\n"
      ],
      "execution_count": 0,
      "outputs": []
    },
    {
      "cell_type": "code",
      "metadata": {
        "id": "XdjobsQaCE6z",
        "colab_type": "code",
        "colab": {}
      },
      "source": [
        "# unzip images\n",
        "!mkdir 'fpsi'\n",
        "# replace with the path to your drive\n",
        "!unzip -q 'gdrive/My Drive/AI/prednet_private/input_images.zip' -d 'fpsi/'\n"
      ],
      "execution_count": 0,
      "outputs": []
    },
    {
      "cell_type": "code",
      "metadata": {
        "id": "ttZAM5EWo1yU",
        "colab_type": "code",
        "colab": {}
      },
      "source": [
        "# just build text files\n",
        "#%mv \"fpsi/images\" \"fpsi/input_images\"\n",
        "%run 'chainer_prednet/generate_imagelist.py' 'fpsi' 600000"
      ],
      "execution_count": 0,
      "outputs": []
    },
    {
      "cell_type": "code",
      "metadata": {
        "id": "jK47EWe2XHS8",
        "colab_type": "code",
        "colab": {}
      },
      "source": [
        "%run 'chainer_prednet/PredNet/main.py' --images 'fpsi/' -g 0 --period 500000"
      ],
      "execution_count": 0,
      "outputs": []
    },
    {
      "cell_type": "code",
      "metadata": {
        "id": "ANDfJrhqP1St",
        "colab_type": "code",
        "colab": {}
      },
      "source": [
        "from google.colab import files\n",
        "files.download('models/500000.model') \n",
        "files.download('models/500000.state') "
      ],
      "execution_count": 0,
      "outputs": []
    },
    {
      "cell_type": "code",
      "metadata": {
        "id": "0iUghImybAE5",
        "colab_type": "code",
        "colab": {}
      },
      "source": [
        "%run 'chainer_prednet/PredNet/main.py' --images 'gdrive/My Drive/AI/prednet_chainer/' --initmodel 'models/50.model' --test\n"
      ],
      "execution_count": 0,
      "outputs": []
    }
  ]
}